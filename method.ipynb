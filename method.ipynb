{
 "cells": [
  {
   "cell_type": "code",
   "execution_count": 1,
   "metadata": {},
   "outputs": [
    {
     "name": "stdout",
     "output_type": "stream",
     "text": [
      "Hello world\n",
      "HELLO WORLD\n",
      "hello world\n",
      "Hello World\n",
      "11\n",
      "False\n",
      "True\n",
      "True\n",
      "False\n",
      "False\n",
      "True\n",
      "w\n",
      "h\n",
      "program\n",
      "1\n",
      "3\n"
     ]
    }
   ],
   "source": [
    "# Build-in string Methods\n",
    "# methods,function - performs a specified task\n",
    "\n",
    "name = \"hello world\"\n",
    "msg = \"python\"\n",
    "num='5532.2'\n",
    "alphanum = 'a22'\n",
    "print(name.capitalize())\n",
    "print(name.upper())\n",
    "print(name.lower())\n",
    "print(name.title()) \n",
    "print(len(name))   # return lenght of string\n",
    "print(name.isspace())  # return true if the string has only whitespace character otherwise false\n",
    "print(msg.isalpha())  # return true if the string has atleast one character otherwise false (space contain in string)\n",
    "print(alphanum.isalnum()) # return true if the string has alphanumeric character otherwise false\n",
    "print(num.isnumeric()) # return true if the string has numeric (any type) otherwise false\n",
    "print(num.isdecimal())  # return true if the string has only decimal values otherwise false\n",
    "print(name.islower())  #  return true if the string has lower cased values otherwise false\n",
    "print(max(name))  # return maximum alphabatic character from string\n",
    "print(min(msg))  # return minimum alphabatic character from string\n",
    "print(msg.replace('python','program'))\n",
    "print(msg.find('y')) # return string index value\n",
    "print(name.count('l'))  # return count of mention character in string\n"
   ]
  },
  {
   "cell_type": "code",
   "execution_count": 2,
   "metadata": {},
   "outputs": [
    {
     "name": "stdout",
     "output_type": "stream",
     "text": [
      "6\n",
      "5\n",
      "120\n",
      "True\n",
      "0.20000000000000018\n",
      "(0.20000000000000018, 6.0)\n",
      "1.0\n",
      "38.440000000000005\n",
      "1.4142135623730951\n",
      "3.141592653589793\n",
      "2.718281828459045\n",
      "0.9092974268256817\n",
      "0.28366218546322625\n",
      "1.6197751905438615\n",
      "286.4788975654116\n",
      "0.08726646259971647\n",
      "1.0\n"
     ]
    }
   ],
   "source": [
    "# Mathematical Functions\n",
    "\n",
    "import math\n",
    "a=5.65              # c=a*b\n",
    "b=6.2               # print(\"{:.2f}\".format(c)) - return the two digit after point\n",
    "c=2\n",
    "d=10\n",
    "e=3\n",
    "print(math.ceil(a))  # return the round of value\n",
    "print(math.floor(a))  # return the integer of value\n",
    "print(math.factorial(int(a)))  # return the factorial of value\n",
    "print(math.isfinite(a))  # return true 'a' is neither an infinite value\n",
    "print(math.fmod(b,c))  # return the remainder value of b divide by c\n",
    "print(math.modf(b))  # return the fractional and integer part of b\n",
    "print(math.log2(c))  # return the log value of c\n",
    "print(math.pow(b,c))  # return the power of value (b power c) 6**2\n",
    "print(math.sqrt(c))   # return the square root value of c\n",
    "print(math.pi)   # return the pi value\n",
    "print(math.e)    # return the e value\n",
    "print(math.sin(2))  # return the sin value\n",
    "print(math.cos(5))   # return the cos value\n",
    "print(math.tan(45))   # return the tan value\n",
    "print(math.degrees(5))  # return the degree value\n",
    "print(math.radians(5))  # return the radian value\n",
    "print(math.remainder(d,e))"
   ]
  },
  {
   "cell_type": "code",
   "execution_count": 3,
   "metadata": {},
   "outputs": [
    {
     "name": "stdout",
     "output_type": "stream",
     "text": [
      "['hello', 'std']\n",
      "['hello', 3, 'std', '$', 'python']\n",
      "['hello', 3, 'std', 5, 'python']\n",
      "['hello', 'std', 5, 'python']\n",
      "['hello', 'world', 'std', 5, 'python']\n",
      "std has popped\n",
      "['hello', 'world', 5, 'python']\n",
      "['hello', 'world', 'python']\n",
      "['hello', 'python', 'world']\n",
      "['python', 'world', 'hello']\n"
     ]
    }
   ],
   "source": [
    "# string slicing methods\n",
    "\n",
    "name=['hello',3,'std','$']\n",
    "print(name[:5:2])\n",
    "name.append('python')\n",
    "print(name)\n",
    "name[3]=5       # modify\n",
    "print(name)\n",
    "name.remove(3)      # specify the list value\n",
    "print(name)\n",
    "name.insert(1,'world')\n",
    "print(name)\n",
    "pop=name.pop(2)\n",
    "print(pop,\"has popped\")\n",
    "print(name)\n",
    "del name[2]     # specify the index value\n",
    "print(name)\n",
    "print(sorted(name))     # temporary sort\n",
    "name.reverse()\n",
    "print(name)"
   ]
  }
 ],
 "metadata": {
  "kernelspec": {
   "display_name": "Python 3",
   "language": "python",
   "name": "python3"
  },
  "language_info": {
   "codemirror_mode": {
    "name": "ipython",
    "version": 3
   },
   "file_extension": ".py",
   "mimetype": "text/x-python",
   "name": "python",
   "nbconvert_exporter": "python",
   "pygments_lexer": "ipython3",
   "version": "3.11.3"
  },
  "orig_nbformat": 4
 },
 "nbformat": 4,
 "nbformat_minor": 2
}
